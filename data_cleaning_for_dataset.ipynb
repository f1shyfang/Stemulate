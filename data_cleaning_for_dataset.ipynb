{
  "nbformat": 4,
  "nbformat_minor": 0,
  "metadata": {
    "colab": {
      "provenance": [],
      "mount_file_id": "1pn9cykf66yFlRVNFGmKdjMBa_UcN2QAP",
      "authorship_tag": "ABX9TyMpkYYz1y4U0H286uTGNh/i",
      "include_colab_link": true
    },
    "kernelspec": {
      "name": "python3",
      "display_name": "Python 3"
    },
    "language_info": {
      "name": "python"
    }
  },
  "cells": [
    {
      "cell_type": "markdown",
      "metadata": {
        "id": "view-in-github",
        "colab_type": "text"
      },
      "source": [
        "<a href=\"https://colab.research.google.com/github/f1shyfang/Stemulate/blob/Data-component/data_cleaning_for_dataset.ipynb\" target=\"_parent\"><img src=\"https://colab.research.google.com/assets/colab-badge.svg\" alt=\"Open In Colab\"/></a>"
      ]
    },
    {
      "cell_type": "markdown",
      "source": [
        "Works nwo just need to view since linux is a btich\n"
      ],
      "metadata": {
        "id": "rCapE-K4ghsq"
      }
    },
    {
      "cell_type": "code",
      "source": [
        "from pathlib import Path\n",
        "import pandas as pd\n",
        "\n",
        "# Define the path to your root folder (replace with your actual path)\n",
        "root_folder_path = \"/content/drive/MyDrive/2024-yr 12/Nesa Hsc papers dataset/HSC-papers and guidelines/HSC\"  # Modify this path\n",
        "\n",
        "# Function to collect CSV files recursively\n",
        "def collect_csv_files(folder_path):\n",
        "  \"\"\"\n",
        "  Finds all CSV files within a folder and its subdirectories.\n",
        "  \"\"\"\n",
        "  csv_files = []\n",
        "  for item in Path(folder_path).iterdir():\n",
        "    if item.is_dir():\n",
        "      # Recursively search subdirectories\n",
        "      csv_files.extend(collect_csv_files(item))\n",
        "    elif item.is_file() and item.suffix == \".csv\":\n",
        "      # Append CSV file paths\n",
        "      csv_files.append(folder_path / item)\n",
        "  return csv_files\n",
        "\n",
        "# Collect all CSV file paths\n",
        "all_csv_files = collect_csv_files(root_folder_path)\n",
        "\n",
        "# Combine CSV data (if any files found)\n",
        "if all_csv_files:\n",
        "  all_data = []\n",
        "  for filepath in all_csv_files:\n",
        "    try:\n",
        "      df = pd.read_csv(filepath, skipinitialspace=True)  # Handle leading whitespaces\n",
        "      all_data.append(df)\n",
        "    except (pd.errors.EmptyDataError, pd.errors.ParserError) as e:\n",
        "      print(f\"Skipping invalid file: {filepath}\\nError: {e}\")  # Informative message\n",
        "\n",
        "  combined_df = pd.concat(all_data, ignore_index=True)\n",
        "\n",
        "  # Save the combined data (optional)\n",
        "  combined_df.to_csv(\"combined_data.csv\", index=False)\n",
        "\n",
        "  print(\"CSV data combined successfully!\")\n",
        "else:\n",
        "  print(\"No CSV files found in the specified folder and its subdirectories.\")\n"
      ],
      "metadata": {
        "id": "5J7vFGJ_VTFl",
        "colab": {
          "base_uri": "https://localhost:8080/"
        },
        "outputId": "1c6eabb8-bf90-49e4-e909-68e3624532f9"
      },
      "execution_count": null,
      "outputs": [
        {
          "output_type": "stream",
          "name": "stdout",
          "text": [
            "Skipping invalid file: /content/drive/MyDrive/2024-yr 12/Nesa Hsc papers dataset/HSC-papers and guidelines/HSC/HSIE/Modern History/Past HSC papers/Test Papers/Modern History Paper 2007.csv\n",
            "Error: No columns to parse from file\n",
            "CSV data combined successfully!\n"
          ]
        }
      ]
    },
    {
      "cell_type": "code",
      "execution_count": null,
      "metadata": {
        "id": "4Yu5MWVcfHJk"
      },
      "outputs": [],
      "source": [
        "import pandas as pd\n",
        "import os\n",
        "\n",
        "# Define an empty list to store DataFrames\n",
        "all_data = []\n",
        "\n",
        "# Loop through all subdirectories within the current directory\n",
        "for folder in os.listdir():\n",
        "  if os.path.isdir(folder):  # Check if it's a directory\n",
        "    # Change directory to the subfolder\n",
        "    os.chdir(folder)\n",
        "    for filename in os.listdir():\n",
        "      if filename.endswith(\".csv\"):  # Check if it's a CSV file\n",
        "        # Read the CSV data into a DataFrame\n",
        "        df = pd.read_csv(filename)\n",
        "        # Append the DataFrame to the list\n",
        "        all_data.append(df)\n",
        "    # Move back to the parent directory\n",
        "    os.chdir(\"..\")\n",
        "\n",
        "# Combine all DataFrames into a single DataFrame (optional)\n",
        "combined_df = pd.concat(all_data, ignore_index=True)  # Combine and reset index\n",
        "\n",
        "# Save the combined data to a new CSV file\n",
        "combined_df.to_csv(\"combined_data.csv\", index=False)\n"
      ]
    },
    {
      "cell_type": "code",
      "source": [
        "from googleapiclient.discovery import build\n",
        "from googleapiclient.errors import HttpError\n",
        "from pathlib import Path\n",
        "import pandas as pd\n",
        "\n",
        "# Define your mounted Google Drive folder ID\n",
        "folder_id = \"YOUR_FOLDER_ID\"  # Replace with your actual folder ID\n",
        "\n",
        "# Authenticate to Google Drive API (authorization required)\n",
        "def authenticate_drive():\n",
        "  \"\"\"\n",
        "  Authenticates to Google Drive API and returns the service object.\n",
        "  \"\"\"\n",
        "  # Replace with your authentication credentials (refer to Google Drive API documentation)\n",
        "  credentials = ...  # Implement authentication based on chosen method\n",
        "\n",
        "  return build('drive', 'v3', credentials=credentials)\n",
        "\n",
        "# Get list of CSV files within the folder\n",
        "def get_csv_files(service):\n",
        "  \"\"\"\n",
        "  Retrieves a list of file paths for all CSV files within the specified folder.\n",
        "  \"\"\"\n",
        "  try:\n",
        "    # List all files within the folder\n",
        "    results = service.files().list(q=f\"'{folder_id}' in parents and mimeType='text/csv'\").execute()\n",
        "    items = results.get('files', [])\n",
        "\n",
        "    # Extract file paths from downloaded information\n",
        "    file_paths = [Path(item['name']) for item in items]\n",
        "    return file_paths\n",
        "\n",
        "  except HttpError as error:\n",
        "    print(f\"An error occurred: {error}\")\n",
        "    return []\n",
        "\n",
        "# Combine CSV data\n",
        "def combine_data(file_paths):\n",
        "  \"\"\"\n",
        "  Reads CSV data from each file path and combines them into a single DataFrame.\n",
        "  \"\"\"\n",
        "  all_data = []\n",
        "  for filepath in file_paths:\n",
        "    df = pd.read_csv(filepath)\n",
        "    all_data.append(df)\n",
        "\n",
        "  combined_df = pd.concat(all_data, ignore_index=True)\n",
        "  return combined_df\n",
        "\n",
        "# Save the combined data\n",
        "def save_data(combined_df, output_filename=\"combined_data.csv\"):\n",
        "  \"\"\"\n",
        "  Saves the combined DataFrame to a new CSV file.\n",
        "  \"\"\"\n",
        "  combined_df.to_csv(output_filename, index=False)\n",
        "\n",
        "if __name__ == \"__main__\":\n",
        "  # Mount your Google Drive (refer to Google Drive API documentation for mounting instructions)\n",
        "  # ... (Mounting code specific to your environment)\n",
        "\n",
        "  service = authenticate_drive()\n",
        "  file_paths = get_csv_files(service)\n",
        "  combined_df = combine_data(file_paths)\n",
        "  save_data(combined_df)\n",
        "\n",
        "  print(\"CSV data combined successfully!\")\n"
      ],
      "metadata": {
        "colab": {
          "base_uri": "https://localhost:8080/",
          "height": 356
        },
        "id": "MOJg21wHUaLV",
        "outputId": "48017d58-e6ce-48d0-9293-1ba48d38ded8"
      },
      "execution_count": null,
      "outputs": [
        {
          "output_type": "error",
          "ename": "AttributeError",
          "evalue": "'ellipsis' object has no attribute 'authorize'",
          "traceback": [
            "\u001b[0;31m---------------------------------------------------------------------------\u001b[0m",
            "\u001b[0;31mAttributeError\u001b[0m                            Traceback (most recent call last)",
            "\u001b[0;32m<ipython-input-1-6515d57ba6c3>\u001b[0m in \u001b[0;36m<cell line: 57>\u001b[0;34m()\u001b[0m\n\u001b[1;32m     59\u001b[0m   \u001b[0;31m# ... (Mounting code specific to your environment)\u001b[0m\u001b[0;34m\u001b[0m\u001b[0;34m\u001b[0m\u001b[0m\n\u001b[1;32m     60\u001b[0m \u001b[0;34m\u001b[0m\u001b[0m\n\u001b[0;32m---> 61\u001b[0;31m   \u001b[0mservice\u001b[0m \u001b[0;34m=\u001b[0m \u001b[0mauthenticate_drive\u001b[0m\u001b[0;34m(\u001b[0m\u001b[0;34m)\u001b[0m\u001b[0;34m\u001b[0m\u001b[0;34m\u001b[0m\u001b[0m\n\u001b[0m\u001b[1;32m     62\u001b[0m   \u001b[0mfile_paths\u001b[0m \u001b[0;34m=\u001b[0m \u001b[0mget_csv_files\u001b[0m\u001b[0;34m(\u001b[0m\u001b[0mservice\u001b[0m\u001b[0;34m)\u001b[0m\u001b[0;34m\u001b[0m\u001b[0;34m\u001b[0m\u001b[0m\n\u001b[1;32m     63\u001b[0m   \u001b[0mcombined_df\u001b[0m \u001b[0;34m=\u001b[0m \u001b[0mcombine_data\u001b[0m\u001b[0;34m(\u001b[0m\u001b[0mfile_paths\u001b[0m\u001b[0;34m)\u001b[0m\u001b[0;34m\u001b[0m\u001b[0;34m\u001b[0m\u001b[0m\n",
            "\u001b[0;32m<ipython-input-1-6515d57ba6c3>\u001b[0m in \u001b[0;36mauthenticate_drive\u001b[0;34m()\u001b[0m\n\u001b[1;32m     15\u001b[0m   \u001b[0mcredentials\u001b[0m \u001b[0;34m=\u001b[0m \u001b[0;34m...\u001b[0m  \u001b[0;31m# Implement authentication based on chosen method\u001b[0m\u001b[0;34m\u001b[0m\u001b[0;34m\u001b[0m\u001b[0m\n\u001b[1;32m     16\u001b[0m \u001b[0;34m\u001b[0m\u001b[0m\n\u001b[0;32m---> 17\u001b[0;31m   \u001b[0;32mreturn\u001b[0m \u001b[0mbuild\u001b[0m\u001b[0;34m(\u001b[0m\u001b[0;34m'drive'\u001b[0m\u001b[0;34m,\u001b[0m \u001b[0;34m'v3'\u001b[0m\u001b[0;34m,\u001b[0m \u001b[0mcredentials\u001b[0m\u001b[0;34m=\u001b[0m\u001b[0mcredentials\u001b[0m\u001b[0;34m)\u001b[0m\u001b[0;34m\u001b[0m\u001b[0;34m\u001b[0m\u001b[0m\n\u001b[0m\u001b[1;32m     18\u001b[0m \u001b[0;34m\u001b[0m\u001b[0m\n\u001b[1;32m     19\u001b[0m \u001b[0;31m# Get list of CSV files within the folder\u001b[0m\u001b[0;34m\u001b[0m\u001b[0;34m\u001b[0m\u001b[0m\n",
            "\u001b[0;32m/usr/local/lib/python3.10/dist-packages/googleapiclient/_helpers.py\u001b[0m in \u001b[0;36mpositional_wrapper\u001b[0;34m(*args, **kwargs)\u001b[0m\n\u001b[1;32m    128\u001b[0m                 \u001b[0;32melif\u001b[0m \u001b[0mpositional_parameters_enforcement\u001b[0m \u001b[0;34m==\u001b[0m \u001b[0mPOSITIONAL_WARNING\u001b[0m\u001b[0;34m:\u001b[0m\u001b[0;34m\u001b[0m\u001b[0;34m\u001b[0m\u001b[0m\n\u001b[1;32m    129\u001b[0m                     \u001b[0mlogger\u001b[0m\u001b[0;34m.\u001b[0m\u001b[0mwarning\u001b[0m\u001b[0;34m(\u001b[0m\u001b[0mmessage\u001b[0m\u001b[0;34m)\u001b[0m\u001b[0;34m\u001b[0m\u001b[0;34m\u001b[0m\u001b[0m\n\u001b[0;32m--> 130\u001b[0;31m             \u001b[0;32mreturn\u001b[0m \u001b[0mwrapped\u001b[0m\u001b[0;34m(\u001b[0m\u001b[0;34m*\u001b[0m\u001b[0margs\u001b[0m\u001b[0;34m,\u001b[0m \u001b[0;34m**\u001b[0m\u001b[0mkwargs\u001b[0m\u001b[0;34m)\u001b[0m\u001b[0;34m\u001b[0m\u001b[0;34m\u001b[0m\u001b[0m\n\u001b[0m\u001b[1;32m    131\u001b[0m \u001b[0;34m\u001b[0m\u001b[0m\n\u001b[1;32m    132\u001b[0m         \u001b[0;32mreturn\u001b[0m \u001b[0mpositional_wrapper\u001b[0m\u001b[0;34m\u001b[0m\u001b[0;34m\u001b[0m\u001b[0m\n",
            "\u001b[0;32m/usr/local/lib/python3.10/dist-packages/googleapiclient/discovery.py\u001b[0m in \u001b[0;36mbuild\u001b[0;34m(serviceName, version, http, discoveryServiceUrl, developerKey, model, requestBuilder, credentials, cache_discovery, cache, client_options, adc_cert_path, adc_key_path, num_retries, static_discovery, always_use_jwt_access)\u001b[0m\n\u001b[1;32m    296\u001b[0m                 \u001b[0mstatic_discovery\u001b[0m\u001b[0;34m=\u001b[0m\u001b[0mstatic_discovery\u001b[0m\u001b[0;34m,\u001b[0m\u001b[0;34m\u001b[0m\u001b[0;34m\u001b[0m\u001b[0m\n\u001b[1;32m    297\u001b[0m             )\n\u001b[0;32m--> 298\u001b[0;31m             service = build_from_document(\n\u001b[0m\u001b[1;32m    299\u001b[0m                 \u001b[0mcontent\u001b[0m\u001b[0;34m,\u001b[0m\u001b[0;34m\u001b[0m\u001b[0;34m\u001b[0m\u001b[0m\n\u001b[1;32m    300\u001b[0m                 \u001b[0mbase\u001b[0m\u001b[0;34m=\u001b[0m\u001b[0mdiscovery_url\u001b[0m\u001b[0;34m,\u001b[0m\u001b[0;34m\u001b[0m\u001b[0;34m\u001b[0m\u001b[0m\n",
            "\u001b[0;32m/usr/local/lib/python3.10/dist-packages/googleapiclient/_helpers.py\u001b[0m in \u001b[0;36mpositional_wrapper\u001b[0;34m(*args, **kwargs)\u001b[0m\n\u001b[1;32m    128\u001b[0m                 \u001b[0;32melif\u001b[0m \u001b[0mpositional_parameters_enforcement\u001b[0m \u001b[0;34m==\u001b[0m \u001b[0mPOSITIONAL_WARNING\u001b[0m\u001b[0;34m:\u001b[0m\u001b[0;34m\u001b[0m\u001b[0;34m\u001b[0m\u001b[0m\n\u001b[1;32m    129\u001b[0m                     \u001b[0mlogger\u001b[0m\u001b[0;34m.\u001b[0m\u001b[0mwarning\u001b[0m\u001b[0;34m(\u001b[0m\u001b[0mmessage\u001b[0m\u001b[0;34m)\u001b[0m\u001b[0;34m\u001b[0m\u001b[0;34m\u001b[0m\u001b[0m\n\u001b[0;32m--> 130\u001b[0;31m             \u001b[0;32mreturn\u001b[0m \u001b[0mwrapped\u001b[0m\u001b[0;34m(\u001b[0m\u001b[0;34m*\u001b[0m\u001b[0margs\u001b[0m\u001b[0;34m,\u001b[0m \u001b[0;34m**\u001b[0m\u001b[0mkwargs\u001b[0m\u001b[0;34m)\u001b[0m\u001b[0;34m\u001b[0m\u001b[0;34m\u001b[0m\u001b[0m\n\u001b[0m\u001b[1;32m    131\u001b[0m \u001b[0;34m\u001b[0m\u001b[0m\n\u001b[1;32m    132\u001b[0m         \u001b[0;32mreturn\u001b[0m \u001b[0mpositional_wrapper\u001b[0m\u001b[0;34m\u001b[0m\u001b[0;34m\u001b[0m\u001b[0m\n",
            "\u001b[0;32m/usr/local/lib/python3.10/dist-packages/googleapiclient/discovery.py\u001b[0m in \u001b[0;36mbuild_from_document\u001b[0;34m(service, base, future, http, developerKey, model, requestBuilder, credentials, client_options, adc_cert_path, adc_key_path, always_use_jwt_access)\u001b[0m\n\u001b[1;32m    602\u001b[0m         \u001b[0;31m# otherwise, skip authentication.\u001b[0m\u001b[0;34m\u001b[0m\u001b[0;34m\u001b[0m\u001b[0m\n\u001b[1;32m    603\u001b[0m         \u001b[0;32mif\u001b[0m \u001b[0mcredentials\u001b[0m\u001b[0;34m:\u001b[0m\u001b[0;34m\u001b[0m\u001b[0;34m\u001b[0m\u001b[0m\n\u001b[0;32m--> 604\u001b[0;31m             \u001b[0mhttp\u001b[0m \u001b[0;34m=\u001b[0m \u001b[0m_auth\u001b[0m\u001b[0;34m.\u001b[0m\u001b[0mauthorized_http\u001b[0m\u001b[0;34m(\u001b[0m\u001b[0mcredentials\u001b[0m\u001b[0;34m)\u001b[0m\u001b[0;34m\u001b[0m\u001b[0;34m\u001b[0m\u001b[0m\n\u001b[0m\u001b[1;32m    605\u001b[0m \u001b[0;34m\u001b[0m\u001b[0m\n\u001b[1;32m    606\u001b[0m         \u001b[0;31m# If the service doesn't require scopes then there is no need for\u001b[0m\u001b[0;34m\u001b[0m\u001b[0;34m\u001b[0m\u001b[0m\n",
            "\u001b[0;32m/usr/local/lib/python3.10/dist-packages/googleapiclient/_auth.py\u001b[0m in \u001b[0;36mauthorized_http\u001b[0;34m(credentials)\u001b[0m\n\u001b[1;32m    122\u001b[0m         \u001b[0;32mreturn\u001b[0m \u001b[0mgoogle_auth_httplib2\u001b[0m\u001b[0;34m.\u001b[0m\u001b[0mAuthorizedHttp\u001b[0m\u001b[0;34m(\u001b[0m\u001b[0mcredentials\u001b[0m\u001b[0;34m,\u001b[0m \u001b[0mhttp\u001b[0m\u001b[0;34m=\u001b[0m\u001b[0mbuild_http\u001b[0m\u001b[0;34m(\u001b[0m\u001b[0;34m)\u001b[0m\u001b[0;34m)\u001b[0m\u001b[0;34m\u001b[0m\u001b[0;34m\u001b[0m\u001b[0m\n\u001b[1;32m    123\u001b[0m     \u001b[0;32melse\u001b[0m\u001b[0;34m:\u001b[0m\u001b[0;34m\u001b[0m\u001b[0;34m\u001b[0m\u001b[0m\n\u001b[0;32m--> 124\u001b[0;31m         \u001b[0;32mreturn\u001b[0m \u001b[0mcredentials\u001b[0m\u001b[0;34m.\u001b[0m\u001b[0mauthorize\u001b[0m\u001b[0;34m(\u001b[0m\u001b[0mbuild_http\u001b[0m\u001b[0;34m(\u001b[0m\u001b[0;34m)\u001b[0m\u001b[0;34m)\u001b[0m\u001b[0;34m\u001b[0m\u001b[0;34m\u001b[0m\u001b[0m\n\u001b[0m\u001b[1;32m    125\u001b[0m \u001b[0;34m\u001b[0m\u001b[0m\n\u001b[1;32m    126\u001b[0m \u001b[0;34m\u001b[0m\u001b[0m\n",
            "\u001b[0;31mAttributeError\u001b[0m: 'ellipsis' object has no attribute 'authorize'"
          ]
        }
      ]
    }
  ]
}