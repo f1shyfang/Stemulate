{
  "nbformat": 4,
  "nbformat_minor": 0,
  "metadata": {
    "colab": {
      "provenance": [],
      "mount_file_id": "1nu2_BYX1-IandMyTpkTj3aG7POESXh6Q",
      "authorship_tag": "ABX9TyPzHtjz7OBl3lIzUwqqHlIx",
      "include_colab_link": true
    },
    "kernelspec": {
      "name": "python3",
      "display_name": "Python 3"
    },
    "language_info": {
      "name": "python"
    }
  },
  "cells": [
    {
      "cell_type": "markdown",
      "metadata": {
        "id": "view-in-github",
        "colab_type": "text"
      },
      "source": [
        "<a href=\"https://colab.research.google.com/github/f1shyfang/Stemulate/blob/main/pdf_parsing_proof_of_concept.ipynb\" target=\"_parent\"><img src=\"https://colab.research.google.com/assets/colab-badge.svg\" alt=\"Open In Colab\"/></a>"
      ]
    },
    {
      "cell_type": "markdown",
      "source": [
        "Setup"
      ],
      "metadata": {
        "id": "qRhlFvLON8Sl"
      }
    },
    {
      "cell_type": "code",
      "execution_count": null,
      "metadata": {
        "id": "jZp37lfueaeZ",
        "colab": {
          "base_uri": "https://localhost:8080/"
        },
        "outputId": "53bd67af-ca26-4aa7-f6e7-39f124c36ba5"
      },
      "outputs": [
        {
          "output_type": "stream",
          "name": "stdout",
          "text": [
            "\u001b[2K     \u001b[90m━━━━━━━━━━━━━━━━━━━━━━━━━━━━━━━━━━━━━━━━\u001b[0m \u001b[32m2.8/2.8 MB\u001b[0m \u001b[31m78.7 MB/s\u001b[0m eta \u001b[36m0:00:00\u001b[0m\n",
            "\u001b[2K     \u001b[90m━━━━━━━━━━━━━━━━━━━━━━━━━━━━━━━━━━━━━━━━\u001b[0m \u001b[32m117.0/117.0 kB\u001b[0m \u001b[31m16.2 MB/s\u001b[0m eta \u001b[36m0:00:00\u001b[0m\n",
            "\u001b[?25h  Preparing metadata (setup.py) ... \u001b[?25l\u001b[?25hdone\n",
            "  Building wheel for langdetect (setup.py) ... \u001b[?25l\u001b[?25hdone\n",
            "  Building wheel for iopath (setup.py) ... \u001b[?25l\u001b[?25hdone\n",
            "  Building wheel for antlr4-python3-runtime (setup.py) ... \u001b[?25l\u001b[?25hdone\n",
            "\u001b[2K     \u001b[90m━━━━━━━━━━━━━━━━━━━━━━━━━━━━━━━━━━━━━━━━\u001b[0m \u001b[32m1.9/1.9 MB\u001b[0m \u001b[31m12.3 MB/s\u001b[0m eta \u001b[36m0:00:00\u001b[0m\n",
            "\u001b[?25h"
          ]
        }
      ],
      "source": [
        "# Install Requirements\n",
        "!apt-get -qq install poppler-utils tesseract-ocr\n",
        "# Upgrade Pillow to latest version\n",
        "%pip install -q --user --upgrade pillow\n",
        "# Install Python Packages\n",
        "%pip install -q unstructured[\"all-docs\"]==0.12.5\n",
        "# NOTE: you may also upgrade to the latest version with the command below,\n",
        "#       though a more recent version of unstructured will not have been tested with this notebook\n",
        "%pip install -q --upgrade unstructured"
      ]
    },
    {
      "cell_type": "code",
      "execution_count": null,
      "metadata": {
        "id": "huxQF-koB_8t",
        "colab": {
          "base_uri": "https://localhost:8080/"
        },
        "outputId": "7b8baa37-a7d6-476e-d5cd-9f4cf0812d3b"
      },
      "outputs": [
        {
          "output_type": "stream",
          "name": "stderr",
          "text": [
            "[nltk_data] Downloading package punkt to /root/nltk_data...\n",
            "[nltk_data]   Package punkt is already up-to-date!\n",
            "[nltk_data] Downloading package averaged_perceptron_tagger to\n",
            "[nltk_data]     /root/nltk_data...\n",
            "[nltk_data]   Package averaged_perceptron_tagger is already up-to-\n",
            "[nltk_data]       date!\n"
          ]
        },
        {
          "output_type": "execute_result",
          "data": {
            "text/plain": [
              "True"
            ]
          },
          "metadata": {},
          "execution_count": 18
        }
      ],
      "source": [
        "# Install NLTK Data\n",
        "import nltk\n",
        "nltk.download('punkt')\n",
        "nltk.download('averaged_perceptron_tagger')"
      ]
    },
    {
      "cell_type": "code",
      "execution_count": null,
      "metadata": {
        "id": "E_WN7p3JGcLJ"
      },
      "outputs": [],
      "source": [
        "from unstructured.partition.pdf import partition_pdf\n",
        "\n",
        "elements = partition_pdf(\"/content/drive/MyDrive/2024-yr 12/hsc resources from jl/HSC/HSC/Mathematics/Maths Adv/Past HSC papers/Test Papers/Mathematics Adv Paper 2021.pdf\")\n",
        "\n",
        "elements_fast = partition_pdf(\"/content/drive/MyDrive/2024-yr 12/hsc resources from jl/HSC/HSC/Mathematics/Maths Adv/Past HSC papers/Test Papers/Mathematics Adv Paper 2021.pdf\", strategy=\"fast\")"
      ]
    },
    {
      "cell_type": "code",
      "execution_count": null,
      "metadata": {
        "id": "peiuDBlv2imF",
        "colab": {
          "base_uri": "https://localhost:8080/",
          "height": 243
        },
        "outputId": "02de3d15-c087-4ff2-ace5-e00215df00dc"
      },
      "outputs": [
        {
          "output_type": "display_data",
          "data": {
            "text/plain": [
              "Counter({unstructured.documents.elements.Footer: 117,\n",
              "         unstructured.documents.elements.Title: 488,\n",
              "         unstructured.documents.elements.ListItem: 11,\n",
              "         unstructured.documents.elements.NarrativeText: 167,\n",
              "         unstructured.documents.elements.Text: 723,\n",
              "         unstructured.documents.elements.Header: 1})"
            ]
          },
          "metadata": {}
        },
        {
          "output_type": "stream",
          "name": "stdout",
          "text": [
            "\n"
          ]
        },
        {
          "output_type": "display_data",
          "data": {
            "text/plain": [
              "Counter({unstructured.documents.elements.Footer: 117,\n",
              "         unstructured.documents.elements.Title: 488,\n",
              "         unstructured.documents.elements.ListItem: 11,\n",
              "         unstructured.documents.elements.NarrativeText: 167,\n",
              "         unstructured.documents.elements.Text: 723,\n",
              "         unstructured.documents.elements.Header: 1})"
            ]
          },
          "metadata": {}
        }
      ],
      "source": [
        "from collections import Counter\n",
        "\n",
        "display(Counter(type(element) for element in elements))\n",
        "print(\"\")\n",
        "# The composition of elements can be different for elements derived with the \"fast\" strategy\n",
        "display(Counter(type(element) for element in elements_fast))"
      ]
    },
    {
      "cell_type": "code",
      "execution_count": null,
      "metadata": {
        "id": "prVGy4uc7YpB",
        "colab": {
          "base_uri": "https://localhost:8080/",
          "height": 104
        },
        "outputId": "ee4a6f14-4f39-436d-ca53-f7962bcea006"
      },
      "outputs": [
        {
          "output_type": "display_data",
          "data": {
            "text/plain": [
              "(unstructured.documents.elements.ListItem,\n",
              " 'Attempt Questions 11–34 • Allow about 2 hours and 45 minutes for this section')"
            ]
          },
          "metadata": {}
        },
        {
          "output_type": "display_data",
          "data": {
            "text/plain": [
              "(unstructured.documents.elements.Title, 'Section I')"
            ]
          },
          "metadata": {}
        },
        {
          "output_type": "display_data",
          "data": {
            "text/plain": [
              "(unstructured.documents.elements.Title,\n",
              " '10 marks Attempt Questions 1–10 Allow about 15 minutes for this section')"
            ]
          },
          "metadata": {}
        }
      ],
      "source": [
        "display(*[(type(element), element.text) for element in elements[10:13]])"
      ]
    },
    {
      "cell_type": "code",
      "source": [
        "print(\"\\n\\n\".join([str(el) for el in elements]))"
      ],
      "metadata": {
        "id": "1iOcnz6jLd5d"
      },
      "execution_count": null,
      "outputs": []
    },
    {
      "cell_type": "code",
      "source": [
        "from unstructured.staging.base import elements_to_json, elements_from_json\n",
        "\n",
        "\n",
        "filename = \"outputs.json\"\n",
        "elements_to_json(elements, filename=filename)\n",
        "elements = elements_from_json(filename=filename)"
      ],
      "metadata": {
        "id": "uAD42kSOHXfM"
      },
      "execution_count": null,
      "outputs": []
    },
    {
      "cell_type": "code",
      "execution_count": null,
      "metadata": {
        "id": "VxBXNWM0HzUU"
      },
      "outputs": [],
      "source": [
        "import pandas as pd\n",
        "\n",
        "df = pd.read_json('outputs.json')\n",
        "\n",
        "print(df.to_string())"
      ]
    },
    {
      "cell_type": "code",
      "source": [
        "import pandas as pd\n",
        "\n",
        "df = pd.read_json('outputs.json')\n",
        "\n",
        "print(df.head(10))\n",
        "print(df.tail(10))"
      ],
      "metadata": {
        "id": "RFmMmCtcLWNg"
      },
      "execution_count": null,
      "outputs": []
    },
    {
      "cell_type": "code",
      "source": [
        "print(df.info())"
      ],
      "metadata": {
        "colab": {
          "base_uri": "https://localhost:8080/"
        },
        "id": "KsJpR3zkKFoM",
        "outputId": "12ddac3f-bcfa-4bff-8e7f-11ad28b7b1d1"
      },
      "execution_count": null,
      "outputs": [
        {
          "output_type": "stream",
          "name": "stdout",
          "text": [
            "<class 'pandas.core.frame.DataFrame'>\n",
            "RangeIndex: 1507 entries, 0 to 1506\n",
            "Data columns (total 4 columns):\n",
            " #   Column      Non-Null Count  Dtype \n",
            "---  ------      --------------  ----- \n",
            " 0   element_id  1507 non-null   object\n",
            " 1   metadata    1507 non-null   object\n",
            " 2   text        1507 non-null   object\n",
            " 3   type        1507 non-null   object\n",
            "dtypes: object(4)\n",
            "memory usage: 47.2+ KB\n",
            "None\n"
          ]
        }
      ]
    },
    {
      "cell_type": "markdown",
      "source": [
        "Still to do read more doccs to clean but i think the parsing lib also has some"
      ],
      "metadata": {
        "id": "4qxYL8jP8XEF"
      }
    },
    {
      "cell_type": "code",
      "source": [],
      "metadata": {
        "id": "64eaMFq68f_I"
      },
      "execution_count": null,
      "outputs": []
    },
    {
      "cell_type": "markdown",
      "source": [
        "Try and save the json into a SQL or CSV then find other factors such as the nesa verb,length of question and marks worth stuff like that from\n"
      ],
      "metadata": {
        "id": "_C6ajF5s8hMN"
      }
    },
    {
      "cell_type": "code",
      "source": [],
      "metadata": {
        "id": "X9CMX2k_80gQ"
      },
      "execution_count": null,
      "outputs": []
    },
    {
      "cell_type": "markdown",
      "source": [
        "Make sure its clean then feed into a random forest\n",
        "\n"
      ],
      "metadata": {
        "id": "PlCDtfA2806Z"
      }
    }
  ]
}